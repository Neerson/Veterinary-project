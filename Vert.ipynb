{
 "cells": [
  {
   "cell_type": "code",
   "execution_count": 2,
   "metadata": {},
   "outputs": [],
   "source": [
    "import pandas as pd\n",
    "import numpy as np\n",
    "\n",
    "\n",
    "from sklearn.model_selection import train_test_split\n",
    "from sklearn.ensemble import RandomForestClassifier\n",
    "from sklearn.preprocessing import LabelEncoder"
   ]
  },
  {
   "cell_type": "code",
   "execution_count": 3,
   "metadata": {},
   "outputs": [
    {
     "data": {
      "text/html": [
       "<div>\n",
       "<style scoped>\n",
       "    .dataframe tbody tr th:only-of-type {\n",
       "        vertical-align: middle;\n",
       "    }\n",
       "\n",
       "    .dataframe tbody tr th {\n",
       "        vertical-align: top;\n",
       "    }\n",
       "\n",
       "    .dataframe thead th {\n",
       "        text-align: right;\n",
       "    }\n",
       "</style>\n",
       "<table border=\"1\" class=\"dataframe\">\n",
       "  <thead>\n",
       "    <tr style=\"text-align: right;\">\n",
       "      <th></th>\n",
       "      <th>ID</th>\n",
       "      <th>Owner</th>\n",
       "      <th>Animal</th>\n",
       "      <th>Animal_Type</th>\n",
       "      <th>Age</th>\n",
       "      <th>State</th>\n",
       "      <th>Diagnoses</th>\n",
       "      <th>Treatment</th>\n",
       "    </tr>\n",
       "  </thead>\n",
       "  <tbody>\n",
       "    <tr>\n",
       "      <th>0</th>\n",
       "      <td>1</td>\n",
       "      <td>John Doe</td>\n",
       "      <td>Max</td>\n",
       "      <td>Dog</td>\n",
       "      <td>5</td>\n",
       "      <td>California</td>\n",
       "      <td>Arthritis</td>\n",
       "      <td>Anti-inflammatory drugs</td>\n",
       "    </tr>\n",
       "    <tr>\n",
       "      <th>1</th>\n",
       "      <td>2</td>\n",
       "      <td>Jane Smith</td>\n",
       "      <td>Whiskers</td>\n",
       "      <td>Cat</td>\n",
       "      <td>3</td>\n",
       "      <td>Texas</td>\n",
       "      <td>Upper respiratory infection</td>\n",
       "      <td>Antibiotics</td>\n",
       "    </tr>\n",
       "    <tr>\n",
       "      <th>2</th>\n",
       "      <td>3</td>\n",
       "      <td>Bob Johnson</td>\n",
       "      <td>Polly</td>\n",
       "      <td>Bird</td>\n",
       "      <td>2</td>\n",
       "      <td>New York</td>\n",
       "      <td>Feather plucking</td>\n",
       "      <td>Behavioral therapy</td>\n",
       "    </tr>\n",
       "    <tr>\n",
       "      <th>3</th>\n",
       "      <td>4</td>\n",
       "      <td>Alice Brown</td>\n",
       "      <td>Luna</td>\n",
       "      <td>Dog</td>\n",
       "      <td>7</td>\n",
       "      <td>Florida</td>\n",
       "      <td>Dental disease</td>\n",
       "      <td>Teeth cleaning</td>\n",
       "    </tr>\n",
       "    <tr>\n",
       "      <th>4</th>\n",
       "      <td>5</td>\n",
       "      <td>Mike Wilson</td>\n",
       "      <td>Bubbles</td>\n",
       "      <td>Fish</td>\n",
       "      <td>1</td>\n",
       "      <td>Nevada</td>\n",
       "      <td>Fin rot</td>\n",
       "      <td>Salt bath and medication</td>\n",
       "    </tr>\n",
       "  </tbody>\n",
       "</table>\n",
       "</div>"
      ],
      "text/plain": [
       "   ID        Owner    Animal Animal_Type  Age       State  \\\n",
       "0   1     John Doe       Max         Dog    5  California   \n",
       "1   2   Jane Smith  Whiskers         Cat    3       Texas   \n",
       "2   3  Bob Johnson     Polly        Bird    2    New York   \n",
       "3   4  Alice Brown      Luna         Dog    7     Florida   \n",
       "4   5  Mike Wilson   Bubbles        Fish    1      Nevada   \n",
       "\n",
       "                     Diagnoses                 Treatment  \n",
       "0                    Arthritis   Anti-inflammatory drugs  \n",
       "1  Upper respiratory infection               Antibiotics  \n",
       "2             Feather plucking        Behavioral therapy  \n",
       "3               Dental disease            Teeth cleaning  \n",
       "4                      Fin rot  Salt bath and medication  "
      ]
     },
     "execution_count": 3,
     "metadata": {},
     "output_type": "execute_result"
    }
   ],
   "source": [
    "df = pd.read_csv(\"Source data/veterinary_data.csv\") \n",
    "df.head(5)\n"
   ]
  },
  {
   "cell_type": "markdown",
   "metadata": {},
   "source": [
    "**Check for Missing or Inconsistent Data**"
   ]
  },
  {
   "cell_type": "code",
   "execution_count": 4,
   "metadata": {},
   "outputs": [
    {
     "name": "stdout",
     "output_type": "stream",
     "text": [
      "['Arthritis' 'Upper respiratory infection' 'Feather plucking'\n",
      " 'Dental disease' 'Fin rot' 'GI stasis' 'Skin allergy' 'Fleas'\n",
      " 'Metabolic bone disease' 'Heartworm']\n",
      "['California' 'Texas' 'New York' 'Florida' 'Nevada' 'Oregon' 'Washington'\n",
      " 'Ohio' 'Georgia' 'Colorado']\n"
     ]
    }
   ],
   "source": [
    "print(df[\"Diagnoses\"].unique())\n",
    "print(df[\"State\"].unique())\n",
    "\n"
   ]
  },
  {
   "cell_type": "code",
   "execution_count": 5,
   "metadata": {},
   "outputs": [
    {
     "name": "stdout",
     "output_type": "stream",
     "text": [
      "['Anti-inflammatory drugs' 'Antibiotics' 'Behavioral therapy'\n",
      " 'Teeth cleaning' 'Salt bath and medication' 'Dietary changes and fluids'\n",
      " 'Antihistamines' 'Flea treatment' 'Calcium supplements'\n",
      " 'Heartworm treatment']\n"
     ]
    }
   ],
   "source": [
    "print(df[\"Treatment\"].unique())"
   ]
  },
  {
   "cell_type": "code",
   "execution_count": 6,
   "metadata": {},
   "outputs": [
    {
     "name": "stdout",
     "output_type": "stream",
     "text": [
      "<class 'pandas.core.frame.DataFrame'>\n",
      "RangeIndex: 100 entries, 0 to 99\n",
      "Data columns (total 8 columns):\n",
      " #   Column       Non-Null Count  Dtype \n",
      "---  ------       --------------  ----- \n",
      " 0   ID           100 non-null    int64 \n",
      " 1   Owner        100 non-null    object\n",
      " 2   Animal       100 non-null    object\n",
      " 3   Animal_Type  100 non-null    object\n",
      " 4   Age          100 non-null    int64 \n",
      " 5   State        100 non-null    object\n",
      " 6   Diagnoses    100 non-null    object\n",
      " 7   Treatment    100 non-null    object\n",
      "dtypes: int64(2), object(6)\n",
      "memory usage: 6.4+ KB\n"
     ]
    }
   ],
   "source": [
    "df.info()"
   ]
  },
  {
   "cell_type": "code",
   "execution_count": 7,
   "metadata": {},
   "outputs": [],
   "source": [
    "df = df.drop_duplicates()\n"
   ]
  },
  {
   "cell_type": "code",
   "execution_count": 8,
   "metadata": {},
   "outputs": [
    {
     "data": {
      "text/html": [
       "<div>\n",
       "<style scoped>\n",
       "    .dataframe tbody tr th:only-of-type {\n",
       "        vertical-align: middle;\n",
       "    }\n",
       "\n",
       "    .dataframe tbody tr th {\n",
       "        vertical-align: top;\n",
       "    }\n",
       "\n",
       "    .dataframe thead th {\n",
       "        text-align: right;\n",
       "    }\n",
       "</style>\n",
       "<table border=\"1\" class=\"dataframe\">\n",
       "  <thead>\n",
       "    <tr style=\"text-align: right;\">\n",
       "      <th></th>\n",
       "      <th>ID</th>\n",
       "      <th>Owner</th>\n",
       "      <th>Animal</th>\n",
       "      <th>Animal_Type</th>\n",
       "      <th>Age</th>\n",
       "      <th>State</th>\n",
       "      <th>Diagnoses</th>\n",
       "      <th>Treatment</th>\n",
       "    </tr>\n",
       "  </thead>\n",
       "  <tbody>\n",
       "    <tr>\n",
       "      <th>0</th>\n",
       "      <td>1</td>\n",
       "      <td>John Doe</td>\n",
       "      <td>Max</td>\n",
       "      <td>Dog</td>\n",
       "      <td>5</td>\n",
       "      <td>California</td>\n",
       "      <td>Arthritis</td>\n",
       "      <td>Anti-inflammatory drugs</td>\n",
       "    </tr>\n",
       "    <tr>\n",
       "      <th>1</th>\n",
       "      <td>2</td>\n",
       "      <td>Jane Smith</td>\n",
       "      <td>Whiskers</td>\n",
       "      <td>Cat</td>\n",
       "      <td>3</td>\n",
       "      <td>Texas</td>\n",
       "      <td>Upper respiratory infection</td>\n",
       "      <td>Antibiotics</td>\n",
       "    </tr>\n",
       "    <tr>\n",
       "      <th>2</th>\n",
       "      <td>3</td>\n",
       "      <td>Bob Johnson</td>\n",
       "      <td>Polly</td>\n",
       "      <td>Bird</td>\n",
       "      <td>2</td>\n",
       "      <td>New York</td>\n",
       "      <td>Feather plucking</td>\n",
       "      <td>Behavioral therapy</td>\n",
       "    </tr>\n",
       "    <tr>\n",
       "      <th>3</th>\n",
       "      <td>4</td>\n",
       "      <td>Alice Brown</td>\n",
       "      <td>Luna</td>\n",
       "      <td>Dog</td>\n",
       "      <td>7</td>\n",
       "      <td>Florida</td>\n",
       "      <td>Dental disease</td>\n",
       "      <td>Teeth cleaning</td>\n",
       "    </tr>\n",
       "    <tr>\n",
       "      <th>4</th>\n",
       "      <td>5</td>\n",
       "      <td>Mike Wilson</td>\n",
       "      <td>Bubbles</td>\n",
       "      <td>Fish</td>\n",
       "      <td>1</td>\n",
       "      <td>Nevada</td>\n",
       "      <td>Fin rot</td>\n",
       "      <td>Salt bath and medication</td>\n",
       "    </tr>\n",
       "  </tbody>\n",
       "</table>\n",
       "</div>"
      ],
      "text/plain": [
       "   ID        Owner    Animal Animal_Type  Age       State  \\\n",
       "0   1     John Doe       Max         Dog    5  California   \n",
       "1   2   Jane Smith  Whiskers         Cat    3       Texas   \n",
       "2   3  Bob Johnson     Polly        Bird    2    New York   \n",
       "3   4  Alice Brown      Luna         Dog    7     Florida   \n",
       "4   5  Mike Wilson   Bubbles        Fish    1      Nevada   \n",
       "\n",
       "                     Diagnoses                 Treatment  \n",
       "0                    Arthritis   Anti-inflammatory drugs  \n",
       "1  Upper respiratory infection               Antibiotics  \n",
       "2             Feather plucking        Behavioral therapy  \n",
       "3               Dental disease            Teeth cleaning  \n",
       "4                      Fin rot  Salt bath and medication  "
      ]
     },
     "execution_count": 8,
     "metadata": {},
     "output_type": "execute_result"
    }
   ],
   "source": [
    "df.head()"
   ]
  },
  {
   "cell_type": "markdown",
   "metadata": {},
   "source": [
    "EXPLORATIVE DATA ANALYSIS"
   ]
  },
  {
   "cell_type": "code",
   "execution_count": 9,
   "metadata": {},
   "outputs": [
    {
     "name": "stdout",
     "output_type": "stream",
     "text": [
      "               ID        Age\n",
      "count  100.000000  100.00000\n",
      "mean    50.500000    6.45000\n",
      "std     29.011492    4.16909\n",
      "min      1.000000    1.00000\n",
      "25%     25.750000    3.00000\n",
      "50%     50.500000    5.00000\n",
      "75%     75.250000   10.00000\n",
      "max    100.000000   14.00000\n"
     ]
    }
   ],
   "source": [
    "print(df.describe())"
   ]
  },
  {
   "cell_type": "code",
   "execution_count": 10,
   "metadata": {},
   "outputs": [
    {
     "name": "stdout",
     "output_type": "stream",
     "text": [
      "Animal_Type\n",
      "Dog       20\n",
      "Fish      20\n",
      "Rabbit    19\n",
      "Cat       18\n",
      "Bird      12\n",
      "Lizard    11\n",
      "Name: count, dtype: int64\n",
      "State\n",
      "Georgia       16\n",
      "Florida       12\n",
      "Oregon        12\n",
      "Colorado      12\n",
      "Washington    10\n",
      "California     8\n",
      "New York       8\n",
      "Ohio           8\n",
      "Texas          7\n",
      "Nevada         7\n",
      "Name: count, dtype: int64\n"
     ]
    }
   ],
   "source": [
    "print(df[\"Animal_Type\"].value_counts())\n",
    "print(df[\"State\"].value_counts())\n"
   ]
  },
  {
   "cell_type": "markdown",
   "metadata": {},
   "source": [
    "VISUALIZE DATA"
   ]
  },
  {
   "cell_type": "code",
   "execution_count": 11,
   "metadata": {},
   "outputs": [
    {
     "data": {
      "image/png": "[encoded data removed]",
      "text/plain": [
       "<Figure size 640x480 with 1 Axes>"
      ]
     },
     "metadata": {},
     "output_type": "display_data"
    }
   ],
   "source": [
    "#Animal type distribution\n",
    "\n",
    "import seaborn as sns\n",
    "import matplotlib.pyplot as plt\n",
    "\n",
    "sns.countplot(x=\"Animal_Type\", data=df)\n",
    "plt.title(\"Distribution of Animals\")\n",
    "plt.show()\n"
   ]
  },
  {
   "cell_type": "code",
   "execution_count": null,
   "metadata": {},
   "outputs": [
    {
     "data": {
      "image/png": "[encoded data removed]",
      "text/plain": [
       "<Figure size 1200x600 with 1 Axes>"
      ]
     },
     "metadata": {},
     "output_type": "display_data"
    }
   ],
   "source": [
    "#Most common diagnoses count\n",
    "plt.figure(figsize=(12,6))\n",
    "sns.countplot(y=\"Diagnoses\", data=df, order=df[\"Diagnoses\"].value_counts().index)\n",
    "plt.title(\"Most Common Diagnoses\")\n",
    "plt.show()\n"
   ]
  },
  {
   "cell_type": "markdown",
   "metadata": {},
   "source": [
    "**DATA INSIGHTS AND PATTERNS**\n"
   ]
  },
  {
   "cell_type": "code",
   "execution_count": 13,
   "metadata": {},
   "outputs": [
    {
     "name": "stdout",
     "output_type": "stream",
     "text": [
      "  Animal_Type   Most Common Diagnosis  Count\n",
      "0        Bird       (Bird, GI stasis)      2\n",
      "1         Cat          (Cat, Fin rot)      5\n",
      "2         Dog        (Dog, Arthritis)      3\n",
      "3        Fish  (Fish, Dental disease)      3\n",
      "4      Lizard       (Lizard, Fin rot)      2\n",
      "5      Rabbit     (Rabbit, GI stasis)      4\n"
     ]
    }
   ],
   "source": [
    "#Most common health issues by specie\n",
    "\n",
    "diagnosis_counts = df.groupby(\"Animal_Type\")[\"Diagnoses\"].value_counts()\n",
    "\n",
    "# Get the most common diagnosis for each animal type\n",
    "most_common_diagnosis = diagnosis_counts.groupby(level=0).idxmax()\n",
    "most_common_diagnosis_counts = diagnosis_counts.groupby(level=0).max()\n",
    "\n",
    "# Combine the results into a DataFrame\n",
    "result_df = pd.DataFrame({\"Most Common Diagnosis\": most_common_diagnosis, \"Count\": most_common_diagnosis_counts})\n",
    "\n",
    "# Reset index for better readability\n",
    "result_df.reset_index(inplace=True)\n",
    "\n",
    "# Display the result\n",
    "print(result_df)"
   ]
  },
  {
   "cell_type": "code",
   "execution_count": null,
   "metadata": {},
   "outputs": [
    {
     "data": {
      "image/png": "[encoded data removed]",
      "text/plain": [
       "<Figure size 1000x500 with 1 Axes>"
      ]
     },
     "metadata": {},
     "output_type": "display_data"
    }
   ],
   "source": [
    "# Plot a bar chart\n",
    "plt.figure(figsize=(10, 5))\n",
    "sns.barplot(x=\"Animal_Type\", y=\"Count\", hue=\"Most Common Diagnosis\", data=result_df)\n",
    "\n",
    "plt.xlabel(\"Animal Type\")\n",
    "plt.ylabel(\"Count\")\n",
    "plt.title(\"Most Common Health Issues by Species\")\n",
    "plt.xticks(rotation=45)\n",
    "plt.legend(title=\"Diagnosis\")\n",
    "plt.show()\n"
   ]
  },
  {
   "cell_type": "code",
   "execution_count": 15,
   "metadata": {},
   "outputs": [
    {
     "data": {
      "text/plain": [
       "State       Diagnoses                  \n",
       "California  Fleas                          2\n",
       "            GI stasis                      2\n",
       "            Arthritis                      1\n",
       "            Dental disease                 1\n",
       "            Fin rot                        1\n",
       "                                          ..\n",
       "Washington  Heartworm                      2\n",
       "            Upper respiratory infection    2\n",
       "            Fleas                          1\n",
       "            Metabolic bone disease         1\n",
       "            Skin allergy                   1\n",
       "Name: count, Length: 66, dtype: int64"
      ]
     },
     "execution_count": 15,
     "metadata": {},
     "output_type": "execute_result"
    }
   ],
   "source": [
    "# State wise distribution illness\n",
    "\n",
    "df.groupby(\"State\")[\"Diagnoses\"].value_counts()\n",
    "# print(df.groupby(\"State\")[\"Diagnoses\"].value_counts().unstack())"
   ]
  },
  {
   "cell_type": "code",
   "execution_count": null,
   "metadata": {},
   "outputs": [],
   "source": [
    "#Effective treatment\n",
    "\n",
    "df.groupby(\"Diagnoses\")[\"Treatment\"].value_counts()\n",
    "# print(df.groupby(\"Diagnoses\")[\"Treatment\"].value_counts().sort_values(ascending=False"
   ]
  },
  {
   "cell_type": "markdown",
   "metadata": {},
   "source": [
    "**ADVANCED ANALYSIS**"
   ]
  },
  {
   "cell_type": "code",
   "execution_count": null,
   "metadata": {},
   "outputs": [],
   "source": [
    "#Correlation between age and diseases\n",
    "\n",
    "sns.boxplot(x=\"Diagnoses\", y=\"Age\", data=df)\n",
    "plt.xticks(rotation=90)\n",
    "plt.title(\"Age vs Diagnoses\")\n",
    "plt.show()\n"
   ]
  },
  {
   "cell_type": "code",
   "execution_count": null,
   "metadata": {},
   "outputs": [],
   "source": [
    "#State wise prevalent certain disease\n",
    "\n",
    "disease_pivot = df.pivot_table(index=\"State\", columns=\"Diagnoses\", aggfunc=\"size\", fill_value=0)\n",
    "sns.heatmap(disease_pivot, cmap=\"coolwarm\", annot=True, fmt=\"d\")\n",
    "plt.title(\"State-wise Disease Prevalence\")\n",
    "plt.show()\n"
   ]
  },
  {
   "cell_type": "markdown",
   "metadata": {},
   "source": [
    "**Can we predict the treatment based on diagnoses?**"
   ]
  },
  {
   "cell_type": "code",
   "execution_count": null,
   "metadata": {},
   "outputs": [],
   "source": [
    "from sklearn.model_selection import train_test_split\n",
    "from sklearn.ensemble import RandomForestClassifier\n",
    "from sklearn.preprocessing import OneHotEncoder, StandardScaler\n",
    "from imblearn.over_sampling import SMOTE\n",
    "from sklearn.metrics import accuracy_score\n",
    "from sklearn.linear_model import LogisticRegression\n"
   ]
  },
  {
   "cell_type": "code",
   "execution_count": null,
   "metadata": {},
   "outputs": [],
   "source": [
    "print(df.columns)\n"
   ]
  },
  {
   "cell_type": "code",
   "execution_count": null,
   "metadata": {},
   "outputs": [],
   "source": [
    "\n",
    "# 🚨 One-Hot Encode Diagnoses\n",
    "encoder = OneHotEncoder(handle_unknown=\"ignore\", sparse_output=False)\n",
    "encoded_diagnoses = pd.DataFrame(encoder.fit_transform(df[[\"Diagnoses\"]]))\n",
    "\n",
    "# Set column names properly\n",
    "encoded_diagnoses.columns = encoder.get_feature_names_out([\"Diagnoses\"])\n",
    "df = df.join(encoded_diagnoses).drop(columns=[\"Diagnoses\"])  # Remove original Diagnoses column\n",
    "\n",
    "# ✅ Select Only Diagnoses Features\n",
    "X = df.filter(like=\"Diagnoses_\")\n",
    "y = df[\"Treatment\"]\n",
    "\n",
    "# 🚨 Check if X is still empty\n",
    "if X.empty:\n",
    "    raise ValueError(\"🚨 No valid 'Diagnoses_' columns found! Check dataset preprocessing.\")\n",
    "\n",
    "# Convert target variable to numeric if needed\n",
    "if y.dtype not in [np.int64, np.float64]:\n",
    "    y = y.astype(\"category\").cat.codes\n",
    "\n",
    "# Splitting Data\n",
    "X_train, X_test, y_train, y_test = train_test_split(X, y, test_size=0.2, random_state=42, stratify=y)\n",
    "\n",
    "# Train Model\n",
    "model = LogisticRegression(max_iter=200)\n",
    "model.fit(X_train, y_train)\n",
    "\n",
    "# Evaluate Model\n",
    "y_pred = model.predict(X_test)\n",
    "accuracy = accuracy_score(y_test, y_pred)\n",
    "print(\"🚀 Basic Model Accuracy:\", accuracy)\n"
   ]
  },
  {
   "cell_type": "code",
   "execution_count": null,
   "metadata": {},
   "outputs": [],
   "source": [
    "# 🚨 One-Hot Encode Diagnoses\n",
    "encoder = OneHotEncoder(handle_unknown=\"ignore\", sparse_output=False)\n",
    "encoded_diagnoses = pd.DataFrame(encoder.fit_transform(df[[\"Diagnoses\"]]))\n",
    "\n",
    "# Set column names properly\n",
    "encoded_diagnoses.columns = encoder.get_feature_names_out([\"Diagnoses\"])\n",
    "df = df.join(encoded_diagnoses).drop(columns=[\"Diagnoses\"])  # Remove original Diagnoses column\n",
    "\n",
    "# 🚨 One-Hot Encode Animal_Type\n",
    "encoded_animals = pd.get_dummies(df[\"Animal_Type\"], prefix=\"Animal_Type\")\n",
    "df = df.join(encoded_animals).drop(columns=[\"Animal_Type\"])\n",
    "\n",
    "# ✅ Standardize Age\n",
    "scaler = StandardScaler()\n",
    "df[\"Age\"] = scaler.fit_transform(df[[\"Age\"]])\n",
    "\n",
    "# ✅ Select Features (Diagnoses + Age + Animal Type)\n",
    "X = df.filter(like=\"Diagnoses_\").join(df[[\"Age\"] + list(encoded_animals.columns)])\n",
    "y = df[\"Treatment\"]\n",
    "\n",
    "# 🚨 Check if X is valid\n",
    "if X.empty:\n",
    "    raise ValueError(\"🚨 No valid feature columns found! Check dataset preprocessing.\")\n",
    "\n",
    "# Convert target variable to numeric if needed\n",
    "if y.dtype not in [np.int64, np.float64]:\n",
    "    y = y.astype(\"category\").cat.codes\n",
    "\n",
    "# Splitting Data\n",
    "X_train, X_test, y_train, y_test = train_test_split(X, y, test_size=0.2, random_state=42, stratify=y)\n",
    "\n",
    "# Train Model\n",
    "model = LogisticRegression(max_iter=200)\n",
    "model.fit(X_train, y_train)\n",
    "\n",
    "# Evaluate Model\n",
    "y_pred = model.predict(X_test)\n",
    "accuracy = accuracy_score(y_test, y_pred)\n",
    "print(\"🚀 Improved Model Accuracy:\", accuracy)\n"
   ]
  },
  {
   "cell_type": "code",
   "execution_count": null,
   "metadata": {},
   "outputs": [],
   "source": []
  }
 ],
 "metadata": {
  "kernelspec": {
   "display_name": "Python 3",
   "language": "python",
   "name": "python3"
  },
  "language_info": {
   "codemirror_mode": {
    "name": "ipython",
    "version": 3
   },
   "file_extension": ".py",
   "mimetype": "text/x-python",
   "name": "python",
   "nbconvert_exporter": "python",
   "pygments_lexer": "ipython3",
   "version": "3.11.4"
  }
 },
 "nbformat": 4,
 "nbformat_minor": 2
}
